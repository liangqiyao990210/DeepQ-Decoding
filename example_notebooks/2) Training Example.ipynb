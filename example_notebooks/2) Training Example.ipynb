{
 "cells": [
  {
   "cell_type": "markdown",
   "metadata": {},
   "source": [
    "#### 2) Training Decoders in Practice\n",
    "\n",
    "Now that we have discussed the conceptual foundations, strategies and techniques involved, we will provide detailed examples of how train decoders via the procedures discussed. In particular, in this notebook we will walk through a very simple script for training a decoder with a given set of hyper-parameters, providing the foundation for a later discussion concerning how to obtain optimal decoders for a range of error rates through an iterative training procedure involving a hyper-parameter optimization for each error rate (see the companion notebook \"Large Scale Iterative Training\"). \n",
    "\n",
    "##### 2a) Requirements\n",
    "\n",
    "The following packages are required, and can be installed via PIP:\n",
    "\n",
    "<ol>\n",
    "  <li> Python 3 (with numpy and scipy)</li>\n",
    "  <li> tensorflow </li>\n",
    "  <li> keras </li> \n",
    "  <li> gym </li> \n",
    "</ol> \n",
    "\n",
    "In addition, a modified version of the Keras-RL package is required, which should be installed from <a href=\"https://github.com/R-Sweke/keras-rl\">this fork</a>"
   ]
  },
  {
   "cell_type": "markdown",
   "metadata": {},
   "source": [
    "##### 2b) A Simple Training Script\n",
    "\n",
    "We begin by importing all required packages and methods:"
   ]
  },
  {
   "cell_type": "code",
   "execution_count": 1,
   "metadata": {},
   "outputs": [
    {
     "name": "stderr",
     "output_type": "stream",
     "text": [
      "Using TensorFlow backend.\n",
      "/home/nathan/miniconda3/lib/python3.7/site-packages/tensorflow/python/framework/dtypes.py:516: FutureWarning: Passing (type, 1) or '1type' as a synonym of type is deprecated; in a future version of numpy, it will be understood as (type, (1,)) / '(1,)type'.\n",
      "  _np_qint8 = np.dtype([(\"qint8\", np.int8, 1)])\n",
      "/home/nathan/miniconda3/lib/python3.7/site-packages/tensorflow/python/framework/dtypes.py:517: FutureWarning: Passing (type, 1) or '1type' as a synonym of type is deprecated; in a future version of numpy, it will be understood as (type, (1,)) / '(1,)type'.\n",
      "  _np_quint8 = np.dtype([(\"quint8\", np.uint8, 1)])\n",
      "/home/nathan/miniconda3/lib/python3.7/site-packages/tensorflow/python/framework/dtypes.py:518: FutureWarning: Passing (type, 1) or '1type' as a synonym of type is deprecated; in a future version of numpy, it will be understood as (type, (1,)) / '(1,)type'.\n",
      "  _np_qint16 = np.dtype([(\"qint16\", np.int16, 1)])\n",
      "/home/nathan/miniconda3/lib/python3.7/site-packages/tensorflow/python/framework/dtypes.py:519: FutureWarning: Passing (type, 1) or '1type' as a synonym of type is deprecated; in a future version of numpy, it will be understood as (type, (1,)) / '(1,)type'.\n",
      "  _np_quint16 = np.dtype([(\"quint16\", np.uint16, 1)])\n",
      "/home/nathan/miniconda3/lib/python3.7/site-packages/tensorflow/python/framework/dtypes.py:520: FutureWarning: Passing (type, 1) or '1type' as a synonym of type is deprecated; in a future version of numpy, it will be understood as (type, (1,)) / '(1,)type'.\n",
      "  _np_qint32 = np.dtype([(\"qint32\", np.int32, 1)])\n",
      "/home/nathan/miniconda3/lib/python3.7/site-packages/tensorflow/python/framework/dtypes.py:525: FutureWarning: Passing (type, 1) or '1type' as a synonym of type is deprecated; in a future version of numpy, it will be understood as (type, (1,)) / '(1,)type'.\n",
      "  np_resource = np.dtype([(\"resource\", np.ubyte, 1)])\n",
      "/home/nathan/miniconda3/lib/python3.7/site-packages/tensorboard/compat/tensorflow_stub/dtypes.py:541: FutureWarning: Passing (type, 1) or '1type' as a synonym of type is deprecated; in a future version of numpy, it will be understood as (type, (1,)) / '(1,)type'.\n",
      "  _np_qint8 = np.dtype([(\"qint8\", np.int8, 1)])\n",
      "/home/nathan/miniconda3/lib/python3.7/site-packages/tensorboard/compat/tensorflow_stub/dtypes.py:542: FutureWarning: Passing (type, 1) or '1type' as a synonym of type is deprecated; in a future version of numpy, it will be understood as (type, (1,)) / '(1,)type'.\n",
      "  _np_quint8 = np.dtype([(\"quint8\", np.uint8, 1)])\n",
      "/home/nathan/miniconda3/lib/python3.7/site-packages/tensorboard/compat/tensorflow_stub/dtypes.py:543: FutureWarning: Passing (type, 1) or '1type' as a synonym of type is deprecated; in a future version of numpy, it will be understood as (type, (1,)) / '(1,)type'.\n",
      "  _np_qint16 = np.dtype([(\"qint16\", np.int16, 1)])\n",
      "/home/nathan/miniconda3/lib/python3.7/site-packages/tensorboard/compat/tensorflow_stub/dtypes.py:544: FutureWarning: Passing (type, 1) or '1type' as a synonym of type is deprecated; in a future version of numpy, it will be understood as (type, (1,)) / '(1,)type'.\n",
      "  _np_quint16 = np.dtype([(\"quint16\", np.uint16, 1)])\n",
      "/home/nathan/miniconda3/lib/python3.7/site-packages/tensorboard/compat/tensorflow_stub/dtypes.py:545: FutureWarning: Passing (type, 1) or '1type' as a synonym of type is deprecated; in a future version of numpy, it will be understood as (type, (1,)) / '(1,)type'.\n",
      "  _np_qint32 = np.dtype([(\"qint32\", np.int32, 1)])\n",
      "/home/nathan/miniconda3/lib/python3.7/site-packages/tensorboard/compat/tensorflow_stub/dtypes.py:550: FutureWarning: Passing (type, 1) or '1type' as a synonym of type is deprecated; in a future version of numpy, it will be understood as (type, (1,)) / '(1,)type'.\n",
      "  np_resource = np.dtype([(\"resource\", np.ubyte, 1)])\n"
     ]
    }
   ],
   "source": [
    "import numpy as np\n",
    "import keras\n",
    "import tensorflow\n",
    "import gym\n",
    "\n",
    "from Function_Library import *\n",
    "from Environments import *\n",
    "\n",
    "import rl as rl\n",
    "from rl.agents.dqn import DQNAgent\n",
    "from rl.policy import BoltzmannQPolicy, EpsGreedyQPolicy, LinearAnnealedPolicy, GreedyQPolicy\n",
    "from rl.memory import SequentialMemory\n",
    "from rl.callbacks import FileLogger\n",
    "\n",
    "import json\n",
    "import copy\n",
    "import sys\n",
    "import os\n",
    "import shutil\n",
    "import datetime\n",
    "import pickle"
   ]
  },
  {
   "cell_type": "markdown",
   "metadata": {},
   "source": [
    "We then proceed by providing all required hyperparameters and physical configuration settings. In order to allow for easier grid searching and incremented training later on we choose to split all hyperparameters into two categories:\n",
    "\n",
    "   - fixed configs: These remain constant during the course of a grid search or incremented training procedure.\n",
    "   - variable configs: We will later set up training grids over these hyperparameters.\n",
    "    \n",
    "In particular, the fixed parameters one must provide are:\n",
    "\n",
    "   1. **d**: The lattice width (equal to the lattice height)\n",
    "   - **use_Y**: If true then the agent can perform Y Pauli flips directly, if False then the agent can only perform X and Z Pauli flips.\n",
    "   - **train_freq**: The number of agent-environment interaction steps which occur between each updating of the agent's weights.\n",
    "   - **batch_size**: The size of batches used for calculating loss functions for gradient descent updates of agent weights.\n",
    "   - **print_freq**: Every print_freq episodes the statistics of the training procedure will be logged.\n",
    "   - **rolling_average_length**: The number of most recent episodes over which any relevant rolling average will be calculated.\n",
    "   - **stopping_patience**: The number of episodes after which no improvement will result in the early stopping of the training procedure.\n",
    "   - **error_model**: A string in [\"X\", \"DP\"], specifiying the noise model of the environment as X flips only or depolarizing noise.\n",
    "   - **c_layers**: A list of lists specifying the structure of the convolutional layers of the agent deepQ network. Each inner list describes a layer and has the form [num_filters, filter_width, stride].\n",
    "   - **ff_layers**: A list of lists specifying the structure of the feed-forward neural network sitting on top of the convolutional neural network. Each inner list has the form [num_neurons, output_dropout_rate].\n",
    "   - **max_timesteps**: The maximum number of training timesteps allowed.\n",
    "   - **volume_depth**: The number of syndrome measurements taken each time a new syndrome extraction is performed - i.e. the depth of the syndrome volume passed to the agent.\n",
    "   - **testing_length**: The number of episodes uses to evaluate the trained agents performance. \n",
    "   - **buffer_size**: The maximum number of experience tuples held in the memory from which the update batches for agent updating are drawn.\n",
    "   - **dueling**: A boolean indicating whether or not a [dueling architecture](https://arxiv.org/abs/1511.06581) should be used.\n",
    "   - **masked_greedy**: A boolean which indicates whether the agent will only be allowed to choose legal actions (actions next to an anyon or previously flipped qubit) when acting greedily (i.e. when choosing actions via the argmax of the Q-values)\n",
    "   - **static_decoder**: For training within the fault tolerant setting (multi-cycle decoding) this should always be set to True.\n",
    "   \n",
    "In addition, the parameters which we will later incrementally vary or grid search around are:\n",
    "\n",
    "   1. **p_phys**: The physical error probability\n",
    "   2. **p_meas**: The measurement error probability\n",
    "   3. **success_threshold**: The qubit lifetime rolling average at which training has been deemed succesfull and will be stopped.\n",
    "   4. **learning_starts**: The number of initial steps taken to contribute experience tuples to memory before any weight updates are made.\n",
    "   5. **learning_rate**: The learning rate for gradient descent optimization (via the Adam optimizer)\n",
    "   6. **exploration_fraction**: The number of time steps over which epsilon, the parameter controlling the probability of a random explorative action, is annealed.\n",
    "   7. **max_eps**: The initial maximum value of epsilon.\n",
    "   8. **target_network_update_freq**: In order to achieve stable training, a target network is cloned off from the active deepQ agent every target_network_update_freq interval of steps. This target network is then used to generate the target Q-function over the following interval.\n",
    "   9. **gamma**: The discount rate used for calculating the expected discounted cumulative return (the Q-values).\n",
    "   10. **final_eps**: The final value at which annealing of epsilon will be stopped.\n",
    "   \n",
    "Furthermore, in addition to all the above parameters one must provide a directory into which results and training progress as logged, as well as the path to a pre-trained referee decoder. Here e provide two pre-trained feed forward classification based referee decoders, one for X noise and one for DP noise. However, in principle any perfect-measurement decoding algorithm (such as MWPM) could be used here."
   ]
  },
  {
   "cell_type": "code",
   "execution_count": 2,
   "metadata": {},
   "outputs": [
    {
     "name": "stderr",
     "output_type": "stream",
     "text": [
      "2022-12-12 14:23:56.235886: I tensorflow/core/platform/cpu_feature_guard.cc:142] Your CPU supports instructions that this TensorFlow binary was not compiled to use: AVX2 AVX512F FMA\n",
      "2022-12-12 14:23:56.276576: I tensorflow/core/platform/profile_utils/cpu_utils.cc:94] CPU Frequency: 2592000000 Hz\n",
      "2022-12-12 14:23:56.280795: I tensorflow/compiler/xla/service/service.cc:168] XLA service 0x556c1ea47f70 executing computations on platform Host. Devices:\n",
      "2022-12-12 14:23:56.280824: I tensorflow/compiler/xla/service/service.cc:175]   StreamExecutor device (0): <undefined>, <undefined>\n",
      "2022-12-12 14:23:56.281063: I tensorflow/stream_executor/platform/default/dso_loader.cc:53] Could not dlopen library 'libcuda.so.1'; dlerror: libcuda.so.1: cannot open shared object file: No such file or directory\n",
      "2022-12-12 14:23:56.281070: E tensorflow/stream_executor/cuda/cuda_driver.cc:318] failed call to cuInit: UNKNOWN ERROR (303)\n",
      "2022-12-12 14:23:56.281089: I tensorflow/stream_executor/cuda/cuda_diagnostics.cc:156] kernel driver does not appear to be running on this host (nathanlinux): /proc/driver/nvidia/version does not exist\n",
      "2022-12-12 14:23:56.315028: W tensorflow/compiler/jit/mark_for_compilation_pass.cc:1412] (One-time warning): Not using XLA:CPU for cluster because envvar TF_XLA_FLAGS=--tf_xla_cpu_global_jit was not set.  If you want XLA:CPU, either set that envvar, or use experimental_jit_scope to enable XLA:CPU.  To confirm that XLA is active, pass --vmodule=xla_compilation_cache=1 (as a proper command-line flag, not via TF_XLA_FLAGS) or set the envvar XLA_FLAGS=--xla_hlo_profile.\n"
     ]
    },
    {
     "name": "stdout",
     "output_type": "stream",
     "text": [
      "WARNING:tensorflow:From /home/nathan/miniconda3/lib/python3.7/site-packages/keras/backend/tensorflow_backend.py:422: The name tf.global_variables is deprecated. Please use tf.compat.v1.global_variables instead.\n",
      "\n"
     ]
    }
   ],
   "source": [
    "fixed_configs = {\"d\": 5,\n",
    "                \"use_Y\": False,\n",
    "                \"train_freq\": 1,\n",
    "                \"batch_size\": 32,\n",
    "                \"print_freq\": 250,\n",
    "                \"rolling_average_length\": 500,\n",
    "                \"stopping_patience\": 500,\n",
    "                \"error_model\": \"X\",\n",
    "                \"c_layers\": [[64,3,2],[32,2,1],[32,2,1]],\n",
    "                \"ff_layers\": [[512,0.2]],\n",
    "                \"max_timesteps\": 10000,\n",
    "#               \"max_timesteps\": 1000000,\n",
    "                \"volume_depth\": 5,\n",
    "                \"testing_length\": 101,\n",
    "                \"buffer_size\": 50000,\n",
    "                \"dueling\": True,\n",
    "                \"masked_greedy\": False,\n",
    "                \"static_decoder\": True}\n",
    "\n",
    "variable_configs = {\"p_phys\": 0.001,\n",
    "                    \"p_meas\": 0.001,\n",
    "                    \"success_threshold\": 10000,\n",
    "                    \"learning_starts\": 1000,\n",
    "                    \"learning_rate\": 0.00001,\n",
    "                    \"exploration_fraction\": 100000,\n",
    "                    \"max_eps\": 1.0,\n",
    "                    \"target_network_update_freq\": 5000,\n",
    "                    \"gamma\": 0.99,\n",
    "                    \"final_eps\": 0.02}\n",
    "\n",
    "logging_directory = os.path.join(os.getcwd(),\"logging_directory/\")\n",
    "static_decoder_path = os.path.join(os.getcwd(),\"referee_decoders/nn_d5_X_p5\")\n",
    "\n",
    "\n",
    "all_configs = {}\n",
    "\n",
    "for key in fixed_configs.keys():\n",
    "    all_configs[key] = fixed_configs[key]\n",
    "\n",
    "for key in variable_configs.keys():\n",
    "    all_configs[key] = variable_configs[key]\n",
    "\n",
    "static_decoder = load_model(static_decoder_path)                                                 \n",
    "logging_path = os.path.join(logging_directory,\"training_history.json\")\n",
    "logging_callback = FileLogger(filepath = logging_path,interval = all_configs[\"print_freq\"])"
   ]
  },
  {
   "cell_type": "markdown",
   "metadata": {},
   "source": [
    "Now that we have specified all the required parameters we can instantiate our environment:"
   ]
  },
  {
   "cell_type": "code",
   "execution_count": 3,
   "metadata": {},
   "outputs": [],
   "source": [
    "env = Surface_Code_Environment_Multi_Decoding_Cycles(d=all_configs[\"d\"], \n",
    "    p_phys=all_configs[\"p_phys\"], \n",
    "    p_meas=all_configs[\"p_meas\"],  \n",
    "    error_model=all_configs[\"error_model\"], \n",
    "    use_Y=all_configs[\"use_Y\"], \n",
    "    volume_depth=all_configs[\"volume_depth\"],\n",
    "    static_decoder=static_decoder)"
   ]
  },
  {
   "cell_type": "markdown",
   "metadata": {},
   "source": [
    "The environment class is defined to mirror the environments of [https://gym.openai.com/](openAI gym), and such contains the required \"reset\" and \"step\" methods, via which the agent can interact with the environment, in addition to decoding specific methods and attributes whose details can be found in the relevant method docstrings."
   ]
  },
  {
   "cell_type": "markdown",
   "metadata": {},
   "source": [
    "We can now proceed to define the agent. We being by specifying the memory to be used, as well as the exploration and testing policies."
   ]
  },
  {
   "cell_type": "code",
   "execution_count": 4,
   "metadata": {},
   "outputs": [],
   "source": [
    "memory = SequentialMemory(limit=all_configs[\"buffer_size\"], nsteps=5, window_length=1)\n",
    "\n",
    "policy = LinearAnnealedPolicy(EpsGreedyQPolicy(masked_greedy=all_configs[\"masked_greedy\"]), \n",
    "    attr='eps', value_max=all_configs[\"max_eps\"], \n",
    "    value_min=all_configs[\"final_eps\"], \n",
    "    value_test=0.0, \n",
    "    nb_steps=all_configs[\"exploration_fraction\"])\n",
    "\n",
    "test_policy = GreedyQPolicy(masked_greedy=True)"
   ]
  },
  {
   "cell_type": "markdown",
   "metadata": {},
   "source": [
    "Finally, we can then build the deep convolutional neural network which will represent our Q-function and compile our agent."
   ]
  },
  {
   "cell_type": "code",
   "execution_count": 5,
   "metadata": {},
   "outputs": [],
   "source": [
    "model = build_convolutional_nn(all_configs[\"c_layers\"], \n",
    "                               all_configs[\"ff_layers\"], \n",
    "                               env.observation_space.shape, \n",
    "                               env.num_actions)\n",
    "\n",
    "dqn = DQNAgent(model=model, \n",
    "               nb_actions=env.num_actions, \n",
    "               memory=memory, \n",
    "               nb_steps_warmup=all_configs[\"learning_starts\"], \n",
    "               target_model_update=all_configs[\"target_network_update_freq\"], \n",
    "               policy=policy,\n",
    "               test_policy = test_policy,\n",
    "               gamma = all_configs[\"gamma\"],\n",
    "               enable_dueling_network=all_configs[\"dueling\"])  \n",
    "\n",
    "\n",
    "dqn.compile(Adam(lr=all_configs[\"learning_rate\"]))"
   ]
  },
  {
   "cell_type": "markdown",
   "metadata": {},
   "source": [
    "With both the agent and the environment specified, it is then possible to train the agent by calling the agent's \"fit\" method. If you want to run this on a single computer, be careful, it may take up to 12 hours!"
   ]
  },
  {
   "cell_type": "code",
   "execution_count": 6,
   "metadata": {
    "scrolled": true
   },
   "outputs": [
    {
     "name": "stdout",
     "output_type": "stream",
     "text": [
      "Training for 10000 steps ...\n"
     ]
    },
    {
     "name": "stderr",
     "output_type": "stream",
     "text": [
      "2022-12-12 14:24:05.582251: E tensorflow/core/grappler/optimizers/dependency_optimizer.cc:697] Iteration = 0, topological sort failed with message: The graph couldn't be sorted in topological order.\n",
      "2022-12-12 14:24:05.584930: E tensorflow/core/grappler/optimizers/dependency_optimizer.cc:697] Iteration = 1, topological sort failed with message: The graph couldn't be sorted in topological order.\n",
      "2022-12-12 14:24:05.617484: E tensorflow/core/grappler/optimizers/meta_optimizer.cc:502] remapper failed: Invalid argument: The graph couldn't be sorted in topological order.\n",
      "2022-12-12 14:24:05.618639: E tensorflow/core/grappler/optimizers/meta_optimizer.cc:502] arithmetic_optimizer failed: Invalid argument: The graph couldn't be sorted in topological order.\n",
      "2022-12-12 14:24:05.619858: E tensorflow/core/grappler/optimizers/dependency_optimizer.cc:697] Iteration = 0, topological sort failed with message: The graph couldn't be sorted in topological order.\n",
      "2022-12-12 14:24:05.622284: E tensorflow/core/grappler/optimizers/dependency_optimizer.cc:697] Iteration = 1, topological sort failed with message: The graph couldn't be sorted in topological order.\n"
     ]
    },
    {
     "name": "stdout",
     "output_type": "stream",
     "text": [
      "-----------------\n",
      "                \n",
      "Episode: 250\n",
      "Step: 2677/10000\n",
      "This Episode Steps: 7\n",
      "This Episode Reward: 0.0\n",
      "This Episode Duration: 0.084s\n",
      "Rolling Lifetime length: 42.900\n",
      "Best Lifetime Rolling Avg: 44.63855421686747\n",
      "Best Episode: 82\n",
      "Time Since Best: 167\n",
      "Has Succeeded: False\n",
      "Stopped Improving: False\n",
      "Metrics: loss: 0.188017, mean_q: 0.563972, mean_eps: 0.973805\n",
      "Total Training Time: 22.164s\n",
      "\n",
      "-----------------\n",
      "                \n",
      "Episode: 500\n",
      "Step: 5092/10000\n",
      "This Episode Steps: 7\n",
      "This Episode Reward: 0.0\n",
      "This Episode Duration: 0.079s\n",
      "Rolling Lifetime length: 40.530\n",
      "Best Lifetime Rolling Avg: 44.63855421686747\n",
      "Best Episode: 82\n",
      "Time Since Best: 417\n",
      "Has Succeeded: False\n",
      "Stopped Improving: False\n",
      "Metrics: loss: 0.234360, mean_q: 0.892991, mean_eps: 0.950138\n",
      "Total Training Time: 54.933s\n",
      "\n",
      "-----------------\n",
      "                \n",
      "Episode: 750\n",
      "Step: 7312/10000\n",
      "This Episode Steps: 4\n",
      "This Episode Reward: 0.0\n",
      "This Episode Duration: 0.045s\n",
      "Rolling Lifetime length: 37.810\n",
      "Best Lifetime Rolling Avg: 44.63855421686747\n",
      "Best Episode: 82\n",
      "Time Since Best: 667\n",
      "Has Succeeded: False\n",
      "Stopped Improving: False\n",
      "Metrics: loss: 0.187247, mean_q: 0.941856, mean_eps: 0.928367\n",
      "Total Training Time: 80.458s\n",
      "\n",
      "-----------------\n",
      "                \n",
      "Episode: 1000\n",
      "Step: 9600/10000\n",
      "This Episode Steps: 11\n",
      "This Episode Reward: 0.0\n",
      "This Episode Duration: 0.110s\n",
      "Rolling Lifetime length: 36.280\n",
      "Best Lifetime Rolling Avg: 44.63855421686747\n",
      "Best Episode: 82\n",
      "Time Since Best: 917\n",
      "Has Succeeded: False\n",
      "Stopped Improving: False\n",
      "Metrics: loss: 0.194344, mean_q: 0.866691, mean_eps: 0.905979\n",
      "Total Training Time: 109.702s\n",
      "\n",
      "Training Finished in 114.297 seconds\n",
      "        \n",
      "Final Step: 10000\n",
      "Succeeded: False\n",
      "Stopped_Improving: False\n",
      "Final Episode Lifetimes Rolling Avg: 35.940\n"
     ]
    }
   ],
   "source": [
    "now = datetime.datetime.now()\n",
    "started_file = os.path.join(logging_directory,\"started_at.p\")\n",
    "pickle.dump(now, open(started_file, \"wb\" ) )\n",
    "\n",
    "history = dqn.fit(env, \n",
    "  nb_steps=all_configs[\"max_timesteps\"], \n",
    "  action_repetition=1, \n",
    "  callbacks=[logging_callback], \n",
    "  verbose=2,\n",
    "  visualize=False, \n",
    "  nb_max_start_steps=0, \n",
    "  start_step_policy=None, \n",
    "  log_interval=all_configs[\"print_freq\"],\n",
    "  nb_max_episode_steps=None, \n",
    "  episode_averaging_length=all_configs[\"rolling_average_length\"], \n",
    "  success_threshold=all_configs[\"success_threshold\"],\n",
    "  stopping_patience=all_configs[\"stopping_patience\"],\n",
    "  min_nb_steps=all_configs[\"exploration_fraction\"],\n",
    "  single_cycle=False)"
   ]
  },
  {
   "cell_type": "markdown",
   "metadata": {},
   "source": [
    "As you can see above, during the training procedure various statistics are logged, both to stdout and to file in the specified directory. As you may notice above we manually stopped training after approximately 7000 seconds while the agent was still improving, and before it has reached the specified success threshold.\n",
    "\n",
    "In order to evaluate the agent later on, or apply the agent in a production decoding scenario we can easily save the weights:"
   ]
  },
  {
   "cell_type": "code",
   "execution_count": 7,
   "metadata": {},
   "outputs": [],
   "source": [
    "weights_file = os.path.join(logging_directory, \"dqn_weights.h5f\")\n",
    "dqn.save_weights(weights_file, overwrite=True)"
   ]
  },
  {
   "cell_type": "markdown",
   "metadata": {},
   "source": [
    "And finally, in order to evaluate the training procedure we may be interested in viewing any of the metrics which were logged. These are all saved within the history.history dictionary. For example, we are often most interested in analyzing the training procedure by looking at the rolling average of the qubit lifetime, which we can do as follows:"
   ]
  },
  {
   "cell_type": "code",
   "execution_count": 10,
   "metadata": {},
   "outputs": [
    {
     "data": {
      "image/png": "[encoded data removed]",
      "text/plain": [
       "<Figure size 864x504 with 1 Axes>"
      ]
     },
     "metadata": {
      "needs_background": "light"
     },
     "output_type": "display_data"
    }
   ],
   "source": [
    "from matplotlib import pyplot as plt\n",
    "%matplotlib inline\n",
    "\n",
    "training_history = history.history[\"episode_lifetimes_rolling_avg\"]\n",
    "\n",
    "plt.figure(figsize=(12,7))\n",
    "plt.plot(training_history)\n",
    "plt.xlabel('Episode')\n",
    "plt.ylabel('Rolling Average Qubit Lifetime')\n",
    "_ = plt.title(\"Training History\")"
   ]
  },
  {
   "cell_type": "markdown",
   "metadata": {},
   "source": [
    "From the above plot one can see that during the exploration phase the agent was unable to do well, due to constant exploratory random actions, but was able to exploit this knowledge effectively once the exploration probability became sufficiently low. Again, it is also clear that the agent was definitely still learning and improving when we chose to stop the training procedure."
   ]
  },
  {
   "cell_type": "code",
   "execution_count": 8,
   "metadata": {},
   "outputs": [
    {
     "data": {
      "image/png": "[encoded data removed]",
      "text/plain": [
       "<Figure size 864x504 with 1 Axes>"
      ]
     },
     "metadata": {
      "needs_background": "light"
     },
     "output_type": "display_data"
    }
   ],
   "source": [
    "from matplotlib import pyplot as plt\n",
    "%matplotlib inline\n",
    "\n",
    "training_history = history.history[\"episode_lifetimes_rolling_avg\"]\n",
    "\n",
    "plt.figure(figsize=(12,7))\n",
    "plt.plot(training_history)\n",
    "plt.xlabel('Episode')\n",
    "plt.ylabel('Rolling Average Qubit Lifetime')\n",
    "_ = plt.title(\"Training History\")"
   ]
  },
  {
   "cell_type": "code",
   "execution_count": null,
   "metadata": {},
   "outputs": [],
   "source": []
  }
 ],
 "metadata": {
  "kernelspec": {
   "display_name": "Python 3 (ipykernel)",
   "language": "python",
   "name": "python3"
  },
  "language_info": {
   "codemirror_mode": {
    "name": "ipython",
    "version": 3
   },
   "file_extension": ".py",
   "mimetype": "text/x-python",
   "name": "python",
   "nbconvert_exporter": "python",
   "pygments_lexer": "ipython3",
   "version": "3.7.13"
  }
 },
 "nbformat": 4,
 "nbformat_minor": 4
}
